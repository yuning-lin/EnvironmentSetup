{
 "cells": [
  {
   "cell_type": "markdown",
   "id": "7fab9ee6",
   "metadata": {},
   "source": [
    "### 安裝 jupyter notebook 擴充功能\n",
    "\n",
    "    1. pip install jupyter_contrib_nbextensions （安裝擴充功能的套件）\n",
    "    2. jupyter contrib nbextension install --user （將擴充功能複製至 jupyter 伺服器搜尋目錄下）\n",
    "    3. pip install jupyter_nbextensions_configurator （安裝讓擴充功能可以使用的套件）\n",
    "    4. jupyter nbextensions_configurator enable --user （呼叫 notebook 介面載入擴充功能）"
   ]
  },
  {
   "cell_type": "markdown",
   "id": "f21a495f",
   "metadata": {
    "ExecuteTime": {
     "end_time": "2022-05-05T03:08:04.489538Z",
     "start_time": "2022-05-05T03:08:04.437507Z"
    }
   },
   "source": [
    "### 如何開始使用擴充功能\n",
    "  \n",
    "* 依上述步驟安裝完成後，開啟 jupyter notebook 即可以看到頁籤多了 Nbextensions\n",
    "* 必須將紅框取消勾選，方得選用預設以外的其他擴充功能\n",
    "  \n",
    "![](Pictures/home_page_after_extension.PNG)\n",
    "  \n",
    "* 原始介面長相\n",
    "  \n",
    "![](Pictures/before_extension.PNG)\n",
    "  \n",
    "* 點選擴充功能後介面長相，多了紅框內的圖標（依據點選功能不同有所差異）\n",
    "   \n",
    "![](Pictures/after_extension.PNG)"
   ]
  },
  {
   "cell_type": "markdown",
   "id": "2d4b6109",
   "metadata": {},
   "source": [
    "### 常用的擴充功能\n",
    "所有擴充功能用左鍵點選後，下方皆會文字描述或圖解其功能，甚至有些還有其他更細節的參數可以選取    \n",
    "若為所需的功能，將方框處點選即可  \n",
    "* ExecuteTime：顯示 cell 何時被執行以及運行時間有多長\n",
    "* spellchecker：將 cell 內容錯誤拼音做提醒\n",
    "* Autopep8：將程式套用 pep8 格式\n",
    "* Hide input all：僅顯示 Markdown 及程式 output，不顯示程式內容\n",
    "* Table of Contents：將 Markdown 內容集成目錄\n",
    "* Variable Inspector：類似各種 IDE 在 workspace 會暫存所有程式中命名的變數名稱、大小、內容"
   ]
  },
  {
   "cell_type": "markdown",
   "id": "3a43346a",
   "metadata": {},
   "source": [
    "### 參考來源\n",
    "* [官方：安裝 jupyter_contrib_nbextensions](https://jupyter-contrib-nbextensions.readthedocs.io/en/latest/install.html)\n",
    "* [GitHub：jupyter_nbextensions_configurator](https://github.com/Jupyter-contrib/jupyter_nbextensions_configurator)"
   ]
  }
 ],
 "metadata": {
  "hide_input": true,
  "kernelspec": {
   "display_name": "Python 3",
   "language": "python",
   "name": "python3"
  },
  "language_info": {
   "codemirror_mode": {
    "name": "ipython",
    "version": 3
   },
   "file_extension": ".py",
   "mimetype": "text/x-python",
   "name": "python",
   "nbconvert_exporter": "python",
   "pygments_lexer": "ipython3",
   "version": "3.6.8"
  },
  "toc": {
   "base_numbering": 1,
   "nav_menu": {},
   "number_sections": true,
   "sideBar": true,
   "skip_h1_title": false,
   "title_cell": "Table of Contents",
   "title_sidebar": "Contents",
   "toc_cell": false,
   "toc_position": {},
   "toc_section_display": true,
   "toc_window_display": false
  },
  "varInspector": {
   "cols": {
    "lenName": 16,
    "lenType": 16,
    "lenVar": 40
   },
   "kernels_config": {
    "python": {
     "delete_cmd_postfix": "",
     "delete_cmd_prefix": "del ",
     "library": "var_list.py",
     "varRefreshCmd": "print(var_dic_list())"
    },
    "r": {
     "delete_cmd_postfix": ") ",
     "delete_cmd_prefix": "rm(",
     "library": "var_list.r",
     "varRefreshCmd": "cat(var_dic_list()) "
    }
   },
   "types_to_exclude": [
    "module",
    "function",
    "builtin_function_or_method",
    "instance",
    "_Feature"
   ],
   "window_display": false
  }
 },
 "nbformat": 4,
 "nbformat_minor": 5
}
