{
 "cells": [
  {
   "cell_type": "code",
   "execution_count": null,
   "metadata": {},
   "outputs": [],
   "source": [
    "#### 引入套件\n",
    "import pymysql\n",
    "\n",
    "#### 資料庫參數\n",
    "username = 'root'\n",
    "password = 'your_password'\n",
    "host = 'localhost'\n",
    "port = '3306'\n",
    "new_db_name = 'Project_Test'\n",
    "table_name = 'table_b'"
   ]
  },
  {
   "cell_type": "code",
   "execution_count": 1,
   "metadata": {},
   "outputs": [],
   "source": [
    "#### 資料庫連線函式\n",
    "def Connection():\n",
    "    conn = pymysql.connect(host=host, port=int(port), user=username,\n",
    "                           passwd=password, charset='utf8', db=new_db_name)\n",
    "    cursor = conn.cursor()\n",
    "    return conn, cursor"
   ]
  },
  {
   "cell_type": "code",
   "execution_count": 2,
   "metadata": {},
   "outputs": [],
   "source": [
    "'''\n",
    "建立資料表\n",
    "欄位常用型態：int, char(n), float, boolean, timestamp\n",
    "not null：不能為空值\n",
    "auto_increment：欄位值會自動加一\n",
    "primary key：為該張表不會重複的流水號\n",
    "若資料表存在會刪除後再建立\n",
    "'''\n",
    "sql = \"CREATE TABLE table_name( \\\n",
    "                    col1 int not null auto_increment primary key, \\\n",
    "                    col2 char(25), col3 float, \\\n",
    "                    col4 boolean, col5 timestamp)\""
   ]
  },
  {
   "cell_type": "code",
   "execution_count": 3,
   "metadata": {},
   "outputs": [],
   "source": [
    "'''\n",
    "新增資料\n",
    "一次新增一筆（ROW）\n",
    "col1 為 not null auto_increment primary key，欄位不必列出，系統會自動生成\n",
    "'''\n",
    "sql = \"INSERT INTO table_name \\\n",
    "                    (col2,col3,col4,col5) values ('pi',3.14,TRUE,'20210101')\""
   ]
  },
  {
   "cell_type": "code",
   "execution_count": 4,
   "metadata": {},
   "outputs": [],
   "source": [
    "'''\n",
    "查詢資料\n",
    "'''\n",
    "sql = \"SELECT col1, col2 FROM table_name\""
   ]
  },
  {
   "cell_type": "code",
   "execution_count": 5,
   "metadata": {},
   "outputs": [],
   "source": [
    "'''\n",
    "更新資料\n",
    "'''\n",
    "sql = \"UPDATE table_name set col2='b' where col1=1\""
   ]
  },
  {
   "cell_type": "code",
   "execution_count": 6,
   "metadata": {},
   "outputs": [],
   "source": [
    "'''\n",
    "刪除資料\n",
    "'''\n",
    "sql = \"DELETE FROM table_name where col4=TRUE\""
   ]
  },
  {
   "cell_type": "code",
   "execution_count": null,
   "metadata": {},
   "outputs": [],
   "source": [
    "#### 根據不同需求，執行主程式\n",
    "conn, cursor = Connection() # 資料庫連線\n",
    "cursor.execute(sql)\n",
    "data = cursor.fetchall()\n",
    "print(data) # 查詢修改後的資料\n",
    "conn.commit()\n",
    "cursor.close()\n",
    "conn.close()"
   ]
  }
 ],
 "metadata": {
  "kernelspec": {
   "display_name": "Python 3",
   "language": "python",
   "name": "python3"
  },
  "language_info": {
   "codemirror_mode": {
    "name": "ipython",
    "version": 3
   },
   "file_extension": ".py",
   "mimetype": "text/x-python",
   "name": "python",
   "nbconvert_exporter": "python",
   "pygments_lexer": "ipython3",
   "version": "3.6.9"
  }
 },
 "nbformat": 4,
 "nbformat_minor": 4
}
