{
 "cells": [
  {
   "cell_type": "code",
   "execution_count": 58,
   "id": "c42f41b0",
   "metadata": {},
   "outputs": [],
   "source": [
    "import pandas as pd\n",
    "import numpy\n",
    "import pyodbc\n",
    "from vega_datasets import data\n",
    "import sqlalchemy\n",
    "from sqlalchemy import types\n",
    "import time"
   ]
  },
  {
   "cell_type": "code",
   "execution_count": 2,
   "id": "aa4fa56d",
   "metadata": {},
   "outputs": [],
   "source": [
    "def ConnctDB(driver, server, port, database, username, password):\n",
    "    conn = pyodbc.connect(\n",
    "        f\"DRIVER={driver};SERVER={server},{port};DATABASE={database};UID={username};PWD={password};MULTI_HOST=1\"\n",
    "        )\n",
    "    return conn"
   ]
  },
  {
   "cell_type": "code",
   "execution_count": 63,
   "id": "0d15671a",
   "metadata": {},
   "outputs": [],
   "source": [
    "#### DB 參數設置\n",
    "driver = \"MySQL ODBC 8.0 ANSI Driver\"\n",
    "server = 'localhost'\n",
    "port = '3306'\n",
    "database = 'Project_Test'\n",
    "username = 'root'\n",
    "password = 'your_password'"
   ]
  },
  {
   "cell_type": "code",
   "execution_count": 60,
   "id": "9f9ab58e",
   "metadata": {},
   "outputs": [
    {
     "name": "stdout",
     "output_type": "stream",
     "text": [
      "['SQL Server', 'Microsoft Access Driver (*.mdb, *.accdb)', 'Microsoft Excel Driver (*.xls, *.xlsx, *.xlsm, *.xlsb)', 'Microsoft Access Text Driver (*.txt, *.csv)', 'Microsoft Access dBASE Driver (*.dbf, *.ndx, *.mdx)', 'MySQL ODBC 8.0 ANSI Driver', 'MySQL ODBC 8.0 Unicode Driver']\n"
     ]
    }
   ],
   "source": [
    "#### how to get driver name\n",
    "#### choose the name fit your DB\n",
    "print(pyodbc.drivers())"
   ]
  },
  {
   "cell_type": "code",
   "execution_count": 64,
   "id": "8bb48156",
   "metadata": {},
   "outputs": [
    {
     "name": "stdout",
     "output_type": "stream",
     "text": [
      "   sepalLength  sepalWidth  petalLength  petalWidth species\n",
      "0          5.1         3.5          1.4         0.2  setosa\n",
      "1          4.9         3.0          1.4         0.2  setosa\n",
      "2          4.7         3.2          1.3         0.2  setosa\n",
      "3          4.6         3.1          1.5         0.2  setosa\n",
      "4          5.0         3.6          1.4         0.2  setosa\n"
     ]
    }
   ],
   "source": [
    "#### get experiment dataset\n",
    "df = data.iris()\n",
    "print(df.head())\n",
    "\n",
    "#### table name and column name for DB and connect DB\n",
    "table_name = 'iris_{}'\n",
    "col_str = ['sepalLength', 'sepalWidth', 'petalLength', 'petalWidth', 'species']\n",
    "conn = ConnctDB(driver, server, port, database, username, password)"
   ]
  },
  {
   "cell_type": "code",
   "execution_count": 67,
   "id": "e08c777c",
   "metadata": {},
   "outputs": [],
   "source": [
    "#### basic way to store data to DB\n",
    "#### exmaple 1\n",
    "df.to_sql(con=conn, name=table_name.format('to_sql'),\n",
    "          if_exists='replace',\n",
    "          dtype={'sepalLength': types.NUMERIC(),\n",
    "                 'sepalWidth': types.NUMERIC(), \n",
    "                 'petalLength': types.NUMERIC(), \n",
    "                 'petalWidth': types.NUMERIC(), \n",
    "                 'species': types.VARCHAR(length=50)})\n",
    "\n",
    "#### example 2\n",
    "#### turn data type from python dtype to sql type\n",
    "#### example: https://stackoverflow.com/questions/4165143/easy-convert-betwen-sqlalchemy-column-types-and-python-data-types/24550149#24550149\n",
    "#### sqlalchemy-types: https://code-maven.com/slides/python/sqlalchemy-types\n",
    "type_py2sql_dict = {str: types.VARCHAR(50),\n",
    "                    numpy.float64: types.Float(precision=3, asdecimal=True)}\n",
    "\n",
    "py_type = [type(i) for i in df.loc[0]]\n",
    "sql_type = [type_py2sql_dict[i] for i in py_type]\n",
    "col_type_dict = dict(zip(df.columns, sql_type))\n",
    "df.to_sql(con=conn, name=table_name.format('to_sql'),\n",
    "          if_exists='replace',\n",
    "          dtype=col_type_dict)"
   ]
  },
  {
   "cell_type": "code",
   "execution_count": 68,
   "id": "01ee7895",
   "metadata": {},
   "outputs": [
    {
     "name": "stdout",
     "output_type": "stream",
     "text": [
      "executemany: 0.0 mins\n"
     ]
    }
   ],
   "source": [
    "#### when dataset is large, use fast_executemany=True and executemany\n",
    "#### insert needed data into destination DB\n",
    "s = time.time()\n",
    "sql = f\"INSERT INTO {table_name} ({','.join(col_str)}) VALUES ({','.join(['?']*len(col_str))})\"\n",
    "params = df.values.tolist()\n",
    "\n",
    "cursor = conn.cursor() \n",
    "cursor.columns(table=table_name.format('executemany'))\n",
    "cursor.fast_executemany = True\n",
    "cursor.executemany(sql, params)\n",
    "\n",
    "print('executemany:',numpy.round((time.time()-s)/60, 3), 'mins')"
   ]
  }
 ],
 "metadata": {
  "kernelspec": {
   "display_name": "Python 3",
   "language": "python",
   "name": "python3"
  },
  "language_info": {
   "codemirror_mode": {
    "name": "ipython",
    "version": 3
   },
   "file_extension": ".py",
   "mimetype": "text/x-python",
   "name": "python",
   "nbconvert_exporter": "python",
   "pygments_lexer": "ipython3",
   "version": "3.6.6"
  }
 },
 "nbformat": 4,
 "nbformat_minor": 5
}
