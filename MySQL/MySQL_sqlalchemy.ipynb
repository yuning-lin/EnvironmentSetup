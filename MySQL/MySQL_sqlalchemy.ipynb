{
 "cells": [
  {
   "cell_type": "code",
   "execution_count": null,
   "metadata": {},
   "outputs": [],
   "source": [
    "#### 引入套件 \n",
    "import os\n",
    "from sqlalchemy import create_engine\n",
    "from sqlalchemy_utils.functions import database_exists, create_database\n",
    "from sqlalchemy.types import NVARCHAR, Float, Integer\n",
    "import cymysql"
   ]
  },
  {
   "cell_type": "code",
   "execution_count": null,
   "metadata": {},
   "outputs": [],
   "source": [
    "#### DB 參數設置\n",
    "username = 'root'\n",
    "password = 'your_password'\n",
    "host = 'localhost'\n",
    "port = '3306'\n",
    "new_db_name = 'Project_Test'\n",
    "table_name = 'table_a'"
   ]
  },
  {
   "cell_type": "code",
   "execution_count": null,
   "metadata": {},
   "outputs": [],
   "source": [
    "#### 將 dataframe 的資料型態轉成 DB 格式\n",
    "dtypedict = {\n",
    "    'str': NVARCHAR(length=255),\n",
    "    'int': Integer(),\n",
    "    'float': Float()\n",
    "}"
   ]
  },
  {
   "cell_type": "code",
   "execution_count": null,
   "metadata": {},
   "outputs": [],
   "source": [
    "#### 若資料庫未建立則建立並連接\n",
    "#### 若資料庫已建立則連接\n",
    "def GetEngine(username, password, host, port, new_db_name):\n",
    "    '''\n",
    "    create new db if not exist\n",
    "    mysql+cymysql：根據對接的資料庫系統而定（若有中文需加 cymysql）\n",
    "    echo: 返還 SQL碼\n",
    "    '''\n",
    "    engine = create_engine(f'mysql+cymysql://{username}:{password}@{host}:{port}/{new_db_name}',\n",
    "                           echo=True, encoding='utf8') \n",
    "    if database_exists(engine.url):\n",
    "        print(f'{new_db_name} exists.')\n",
    "    else:\n",
    "        create_database(engine.url)\n",
    "        print(f'{new_db_name} is created.')\n",
    "    return engine"
   ]
  },
  {
   "cell_type": "code",
   "execution_count": null,
   "metadata": {},
   "outputs": [],
   "source": [
    "#### dump pandas dataframe to table\n",
    "#### SQLAlchemy types:https://docs.sqlalchemy.org/en/14/core/type_basics.html\n",
    "def DumpCsvToDB(engine, data_path, table_name):\n",
    "    # read csv\n",
    "    data = pd.read_csv(data_path)\n",
    "    \n",
    "    # dump pandas dataframe to table\n",
    "    # if data exists then replace\n",
    "    data.to_sql(con=engine, name=table_name,\n",
    "                if_exists='replace',\n",
    "                dtype=dtypedict)"
   ]
  },
  {
   "cell_type": "code",
   "execution_count": null,
   "metadata": {},
   "outputs": [],
   "source": [
    "#### 執行主要程式\n",
    "engine = GetEngine(username, password, host, port, new_db_name)\n",
    "DumpCsvToDB(engine, data_path, table_name)\n",
    "\n",
    "#### 讀取資料庫表格\n",
    "df = pd.read_sql_table(table_name, engine)"
   ]
  }
 ],
 "metadata": {
  "kernelspec": {
   "display_name": "Python 3",
   "language": "python",
   "name": "python3"
  },
  "language_info": {
   "codemirror_mode": {
    "name": "ipython",
    "version": 3
   },
   "file_extension": ".py",
   "mimetype": "text/x-python",
   "name": "python",
   "nbconvert_exporter": "python",
   "pygments_lexer": "ipython3",
   "version": "3.6.9"
  }
 },
 "nbformat": 4,
 "nbformat_minor": 4
}
